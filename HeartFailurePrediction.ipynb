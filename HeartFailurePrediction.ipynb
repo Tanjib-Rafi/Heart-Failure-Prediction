{
  "nbformat": 4,
  "nbformat_minor": 0,
  "metadata": {
    "colab": {
      "name": "HeartFailurePrediction.ipynb",
      "provenance": [],
      "authorship_tag": "ABX9TyP83MmkCmU0EXKVU8ciJrre",
      "include_colab_link": true
    },
    "kernelspec": {
      "name": "python3",
      "display_name": "Python 3"
    },
    "language_info": {
      "name": "python"
    }
  },
  "cells": [
    {
      "cell_type": "markdown",
      "metadata": {
        "id": "view-in-github",
        "colab_type": "text"
      },
      "source": [
        "<a href=\"https://colab.research.google.com/github/Tanjib-Rafi/Heart-Failure-Prediction/blob/main/HeartFailurePrediction.ipynb\" target=\"_parent\"><img src=\"https://colab.research.google.com/assets/colab-badge.svg\" alt=\"Open In Colab\"/></a>"
      ]
    },
    {
      "cell_type": "code",
      "execution_count": 170,
      "metadata": {
        "id": "RvkdwQxf1Knu",
        "colab": {
          "base_uri": "https://localhost:8080/"
        },
        "outputId": "677a79b1-4a10-4fd1-e267-1dbc7be302cc"
      },
      "outputs": [
        {
          "output_type": "stream",
          "name": "stdout",
          "text": [
            "Drive already mounted at /content/drive; to attempt to forcibly remount, call drive.mount(\"/content/drive\", force_remount=True).\n"
          ]
        }
      ],
      "source": [
        "from google.colab import drive\n",
        "drive.mount('/content/drive')"
      ]
    },
    {
      "cell_type": "code",
      "source": [
        "import numpy as np\n",
        "import pandas as pd\n",
        "import sklearn"
      ],
      "metadata": {
        "id": "dkSvvGOVi736"
      },
      "execution_count": 171,
      "outputs": []
    },
    {
      "cell_type": "code",
      "source": [
        "dataset = pd.read_csv('/content/drive/MyDrive/datasets/heart_failure_clinical_records_dataset.csv')\n",
        "X = dataset.iloc[:, 0:12].values\n",
        "y = dataset.iloc[:, -1].values"
      ],
      "metadata": {
        "id": "ikvKY8WIi8zD"
      },
      "execution_count": 172,
      "outputs": []
    },
    {
      "cell_type": "code",
      "source": [
        "dataset"
      ],
      "metadata": {
        "colab": {
          "base_uri": "https://localhost:8080/",
          "height": 488
        },
        "id": "9WCcVucfgANH",
        "outputId": "f29cf431-6bf5-424f-84a0-1bd5ea3e1285"
      },
      "execution_count": 173,
      "outputs": [
        {
          "output_type": "execute_result",
          "data": {
            "text/html": [
              "\n",
              "  <div id=\"df-c1358d4e-20a3-42e8-9f88-f445fe62e502\">\n",
              "    <div class=\"colab-df-container\">\n",
              "      <div>\n",
              "<style scoped>\n",
              "    .dataframe tbody tr th:only-of-type {\n",
              "        vertical-align: middle;\n",
              "    }\n",
              "\n",
              "    .dataframe tbody tr th {\n",
              "        vertical-align: top;\n",
              "    }\n",
              "\n",
              "    .dataframe thead th {\n",
              "        text-align: right;\n",
              "    }\n",
              "</style>\n",
              "<table border=\"1\" class=\"dataframe\">\n",
              "  <thead>\n",
              "    <tr style=\"text-align: right;\">\n",
              "      <th></th>\n",
              "      <th>age</th>\n",
              "      <th>anaemia</th>\n",
              "      <th>creatinine_phosphokinase</th>\n",
              "      <th>diabetes</th>\n",
              "      <th>ejection_fraction</th>\n",
              "      <th>high_blood_pressure</th>\n",
              "      <th>platelets</th>\n",
              "      <th>serum_creatinine</th>\n",
              "      <th>serum_sodium</th>\n",
              "      <th>sex</th>\n",
              "      <th>smoking</th>\n",
              "      <th>time</th>\n",
              "      <th>DEATH_EVENT</th>\n",
              "    </tr>\n",
              "  </thead>\n",
              "  <tbody>\n",
              "    <tr>\n",
              "      <th>0</th>\n",
              "      <td>75.0</td>\n",
              "      <td>0</td>\n",
              "      <td>582</td>\n",
              "      <td>0</td>\n",
              "      <td>20</td>\n",
              "      <td>1</td>\n",
              "      <td>265000.00</td>\n",
              "      <td>1.9</td>\n",
              "      <td>130</td>\n",
              "      <td>1</td>\n",
              "      <td>0</td>\n",
              "      <td>4</td>\n",
              "      <td>1</td>\n",
              "    </tr>\n",
              "    <tr>\n",
              "      <th>1</th>\n",
              "      <td>55.0</td>\n",
              "      <td>0</td>\n",
              "      <td>7861</td>\n",
              "      <td>0</td>\n",
              "      <td>38</td>\n",
              "      <td>0</td>\n",
              "      <td>263358.03</td>\n",
              "      <td>1.1</td>\n",
              "      <td>136</td>\n",
              "      <td>1</td>\n",
              "      <td>0</td>\n",
              "      <td>6</td>\n",
              "      <td>1</td>\n",
              "    </tr>\n",
              "    <tr>\n",
              "      <th>2</th>\n",
              "      <td>65.0</td>\n",
              "      <td>0</td>\n",
              "      <td>146</td>\n",
              "      <td>0</td>\n",
              "      <td>20</td>\n",
              "      <td>0</td>\n",
              "      <td>162000.00</td>\n",
              "      <td>1.3</td>\n",
              "      <td>129</td>\n",
              "      <td>1</td>\n",
              "      <td>1</td>\n",
              "      <td>7</td>\n",
              "      <td>1</td>\n",
              "    </tr>\n",
              "    <tr>\n",
              "      <th>3</th>\n",
              "      <td>50.0</td>\n",
              "      <td>1</td>\n",
              "      <td>111</td>\n",
              "      <td>0</td>\n",
              "      <td>20</td>\n",
              "      <td>0</td>\n",
              "      <td>210000.00</td>\n",
              "      <td>1.9</td>\n",
              "      <td>137</td>\n",
              "      <td>1</td>\n",
              "      <td>0</td>\n",
              "      <td>7</td>\n",
              "      <td>1</td>\n",
              "    </tr>\n",
              "    <tr>\n",
              "      <th>4</th>\n",
              "      <td>65.0</td>\n",
              "      <td>1</td>\n",
              "      <td>160</td>\n",
              "      <td>1</td>\n",
              "      <td>20</td>\n",
              "      <td>0</td>\n",
              "      <td>327000.00</td>\n",
              "      <td>2.7</td>\n",
              "      <td>116</td>\n",
              "      <td>0</td>\n",
              "      <td>0</td>\n",
              "      <td>8</td>\n",
              "      <td>1</td>\n",
              "    </tr>\n",
              "    <tr>\n",
              "      <th>...</th>\n",
              "      <td>...</td>\n",
              "      <td>...</td>\n",
              "      <td>...</td>\n",
              "      <td>...</td>\n",
              "      <td>...</td>\n",
              "      <td>...</td>\n",
              "      <td>...</td>\n",
              "      <td>...</td>\n",
              "      <td>...</td>\n",
              "      <td>...</td>\n",
              "      <td>...</td>\n",
              "      <td>...</td>\n",
              "      <td>...</td>\n",
              "    </tr>\n",
              "    <tr>\n",
              "      <th>294</th>\n",
              "      <td>62.0</td>\n",
              "      <td>0</td>\n",
              "      <td>61</td>\n",
              "      <td>1</td>\n",
              "      <td>38</td>\n",
              "      <td>1</td>\n",
              "      <td>155000.00</td>\n",
              "      <td>1.1</td>\n",
              "      <td>143</td>\n",
              "      <td>1</td>\n",
              "      <td>1</td>\n",
              "      <td>270</td>\n",
              "      <td>0</td>\n",
              "    </tr>\n",
              "    <tr>\n",
              "      <th>295</th>\n",
              "      <td>55.0</td>\n",
              "      <td>0</td>\n",
              "      <td>1820</td>\n",
              "      <td>0</td>\n",
              "      <td>38</td>\n",
              "      <td>0</td>\n",
              "      <td>270000.00</td>\n",
              "      <td>1.2</td>\n",
              "      <td>139</td>\n",
              "      <td>0</td>\n",
              "      <td>0</td>\n",
              "      <td>271</td>\n",
              "      <td>0</td>\n",
              "    </tr>\n",
              "    <tr>\n",
              "      <th>296</th>\n",
              "      <td>45.0</td>\n",
              "      <td>0</td>\n",
              "      <td>2060</td>\n",
              "      <td>1</td>\n",
              "      <td>60</td>\n",
              "      <td>0</td>\n",
              "      <td>742000.00</td>\n",
              "      <td>0.8</td>\n",
              "      <td>138</td>\n",
              "      <td>0</td>\n",
              "      <td>0</td>\n",
              "      <td>278</td>\n",
              "      <td>0</td>\n",
              "    </tr>\n",
              "    <tr>\n",
              "      <th>297</th>\n",
              "      <td>45.0</td>\n",
              "      <td>0</td>\n",
              "      <td>2413</td>\n",
              "      <td>0</td>\n",
              "      <td>38</td>\n",
              "      <td>0</td>\n",
              "      <td>140000.00</td>\n",
              "      <td>1.4</td>\n",
              "      <td>140</td>\n",
              "      <td>1</td>\n",
              "      <td>1</td>\n",
              "      <td>280</td>\n",
              "      <td>0</td>\n",
              "    </tr>\n",
              "    <tr>\n",
              "      <th>298</th>\n",
              "      <td>50.0</td>\n",
              "      <td>0</td>\n",
              "      <td>196</td>\n",
              "      <td>0</td>\n",
              "      <td>45</td>\n",
              "      <td>0</td>\n",
              "      <td>395000.00</td>\n",
              "      <td>1.6</td>\n",
              "      <td>136</td>\n",
              "      <td>1</td>\n",
              "      <td>1</td>\n",
              "      <td>285</td>\n",
              "      <td>0</td>\n",
              "    </tr>\n",
              "  </tbody>\n",
              "</table>\n",
              "<p>299 rows × 13 columns</p>\n",
              "</div>\n",
              "      <button class=\"colab-df-convert\" onclick=\"convertToInteractive('df-c1358d4e-20a3-42e8-9f88-f445fe62e502')\"\n",
              "              title=\"Convert this dataframe to an interactive table.\"\n",
              "              style=\"display:none;\">\n",
              "        \n",
              "  <svg xmlns=\"http://www.w3.org/2000/svg\" height=\"24px\"viewBox=\"0 0 24 24\"\n",
              "       width=\"24px\">\n",
              "    <path d=\"M0 0h24v24H0V0z\" fill=\"none\"/>\n",
              "    <path d=\"M18.56 5.44l.94 2.06.94-2.06 2.06-.94-2.06-.94-.94-2.06-.94 2.06-2.06.94zm-11 1L8.5 8.5l.94-2.06 2.06-.94-2.06-.94L8.5 2.5l-.94 2.06-2.06.94zm10 10l.94 2.06.94-2.06 2.06-.94-2.06-.94-.94-2.06-.94 2.06-2.06.94z\"/><path d=\"M17.41 7.96l-1.37-1.37c-.4-.4-.92-.59-1.43-.59-.52 0-1.04.2-1.43.59L10.3 9.45l-7.72 7.72c-.78.78-.78 2.05 0 2.83L4 21.41c.39.39.9.59 1.41.59.51 0 1.02-.2 1.41-.59l7.78-7.78 2.81-2.81c.8-.78.8-2.07 0-2.86zM5.41 20L4 18.59l7.72-7.72 1.47 1.35L5.41 20z\"/>\n",
              "  </svg>\n",
              "      </button>\n",
              "      \n",
              "  <style>\n",
              "    .colab-df-container {\n",
              "      display:flex;\n",
              "      flex-wrap:wrap;\n",
              "      gap: 12px;\n",
              "    }\n",
              "\n",
              "    .colab-df-convert {\n",
              "      background-color: #E8F0FE;\n",
              "      border: none;\n",
              "      border-radius: 50%;\n",
              "      cursor: pointer;\n",
              "      display: none;\n",
              "      fill: #1967D2;\n",
              "      height: 32px;\n",
              "      padding: 0 0 0 0;\n",
              "      width: 32px;\n",
              "    }\n",
              "\n",
              "    .colab-df-convert:hover {\n",
              "      background-color: #E2EBFA;\n",
              "      box-shadow: 0px 1px 2px rgba(60, 64, 67, 0.3), 0px 1px 3px 1px rgba(60, 64, 67, 0.15);\n",
              "      fill: #174EA6;\n",
              "    }\n",
              "\n",
              "    [theme=dark] .colab-df-convert {\n",
              "      background-color: #3B4455;\n",
              "      fill: #D2E3FC;\n",
              "    }\n",
              "\n",
              "    [theme=dark] .colab-df-convert:hover {\n",
              "      background-color: #434B5C;\n",
              "      box-shadow: 0px 1px 3px 1px rgba(0, 0, 0, 0.15);\n",
              "      filter: drop-shadow(0px 1px 2px rgba(0, 0, 0, 0.3));\n",
              "      fill: #FFFFFF;\n",
              "    }\n",
              "  </style>\n",
              "\n",
              "      <script>\n",
              "        const buttonEl =\n",
              "          document.querySelector('#df-c1358d4e-20a3-42e8-9f88-f445fe62e502 button.colab-df-convert');\n",
              "        buttonEl.style.display =\n",
              "          google.colab.kernel.accessAllowed ? 'block' : 'none';\n",
              "\n",
              "        async function convertToInteractive(key) {\n",
              "          const element = document.querySelector('#df-c1358d4e-20a3-42e8-9f88-f445fe62e502');\n",
              "          const dataTable =\n",
              "            await google.colab.kernel.invokeFunction('convertToInteractive',\n",
              "                                                     [key], {});\n",
              "          if (!dataTable) return;\n",
              "\n",
              "          const docLinkHtml = 'Like what you see? Visit the ' +\n",
              "            '<a target=\"_blank\" href=https://colab.research.google.com/notebooks/data_table.ipynb>data table notebook</a>'\n",
              "            + ' to learn more about interactive tables.';\n",
              "          element.innerHTML = '';\n",
              "          dataTable['output_type'] = 'display_data';\n",
              "          await google.colab.output.renderOutput(dataTable, element);\n",
              "          const docLink = document.createElement('div');\n",
              "          docLink.innerHTML = docLinkHtml;\n",
              "          element.appendChild(docLink);\n",
              "        }\n",
              "      </script>\n",
              "    </div>\n",
              "  </div>\n",
              "  "
            ],
            "text/plain": [
              "      age  anaemia  creatinine_phosphokinase  diabetes  ejection_fraction  \\\n",
              "0    75.0        0                       582         0                 20   \n",
              "1    55.0        0                      7861         0                 38   \n",
              "2    65.0        0                       146         0                 20   \n",
              "3    50.0        1                       111         0                 20   \n",
              "4    65.0        1                       160         1                 20   \n",
              "..    ...      ...                       ...       ...                ...   \n",
              "294  62.0        0                        61         1                 38   \n",
              "295  55.0        0                      1820         0                 38   \n",
              "296  45.0        0                      2060         1                 60   \n",
              "297  45.0        0                      2413         0                 38   \n",
              "298  50.0        0                       196         0                 45   \n",
              "\n",
              "     high_blood_pressure  platelets  serum_creatinine  serum_sodium  sex  \\\n",
              "0                      1  265000.00               1.9           130    1   \n",
              "1                      0  263358.03               1.1           136    1   \n",
              "2                      0  162000.00               1.3           129    1   \n",
              "3                      0  210000.00               1.9           137    1   \n",
              "4                      0  327000.00               2.7           116    0   \n",
              "..                   ...        ...               ...           ...  ...   \n",
              "294                    1  155000.00               1.1           143    1   \n",
              "295                    0  270000.00               1.2           139    0   \n",
              "296                    0  742000.00               0.8           138    0   \n",
              "297                    0  140000.00               1.4           140    1   \n",
              "298                    0  395000.00               1.6           136    1   \n",
              "\n",
              "     smoking  time  DEATH_EVENT  \n",
              "0          0     4            1  \n",
              "1          0     6            1  \n",
              "2          1     7            1  \n",
              "3          0     7            1  \n",
              "4          0     8            1  \n",
              "..       ...   ...          ...  \n",
              "294        1   270            0  \n",
              "295        0   271            0  \n",
              "296        0   278            0  \n",
              "297        1   280            0  \n",
              "298        1   285            0  \n",
              "\n",
              "[299 rows x 13 columns]"
            ]
          },
          "metadata": {},
          "execution_count": 173
        }
      ]
    },
    {
      "cell_type": "code",
      "source": [
        "X"
      ],
      "metadata": {
        "colab": {
          "base_uri": "https://localhost:8080/"
        },
        "id": "nNMM8lzsfzb2",
        "outputId": "560abd84-977d-4a48-d473-d073c7dd0809"
      },
      "execution_count": 174,
      "outputs": [
        {
          "output_type": "execute_result",
          "data": {
            "text/plain": [
              "array([[7.500e+01, 0.000e+00, 5.820e+02, ..., 1.000e+00, 0.000e+00,\n",
              "        4.000e+00],\n",
              "       [5.500e+01, 0.000e+00, 7.861e+03, ..., 1.000e+00, 0.000e+00,\n",
              "        6.000e+00],\n",
              "       [6.500e+01, 0.000e+00, 1.460e+02, ..., 1.000e+00, 1.000e+00,\n",
              "        7.000e+00],\n",
              "       ...,\n",
              "       [4.500e+01, 0.000e+00, 2.060e+03, ..., 0.000e+00, 0.000e+00,\n",
              "        2.780e+02],\n",
              "       [4.500e+01, 0.000e+00, 2.413e+03, ..., 1.000e+00, 1.000e+00,\n",
              "        2.800e+02],\n",
              "       [5.000e+01, 0.000e+00, 1.960e+02, ..., 1.000e+00, 1.000e+00,\n",
              "        2.850e+02]])"
            ]
          },
          "metadata": {},
          "execution_count": 174
        }
      ]
    },
    {
      "cell_type": "code",
      "source": [
        "from sklearn.preprocessing import MinMaxScaler\n",
        "sc = MinMaxScaler()\n",
        "X = sc.fit_transform(X)"
      ],
      "metadata": {
        "id": "iS-cVaBagHUE"
      },
      "execution_count": 175,
      "outputs": []
    },
    {
      "cell_type": "code",
      "source": [
        "from sklearn.model_selection import train_test_split\n",
        "X_train, X_test, y_train, y_test = train_test_split(X, y, test_size = 0.20, random_state=42)"
      ],
      "metadata": {
        "id": "zgTw6KHfLcAp"
      },
      "execution_count": 176,
      "outputs": []
    },
    {
      "cell_type": "code",
      "source": [
        "X_train.shape"
      ],
      "metadata": {
        "colab": {
          "base_uri": "https://localhost:8080/"
        },
        "id": "teIzGG3_NOMI",
        "outputId": "d2d35cd6-e942-48c0-8b25-0f1520cf982f"
      },
      "execution_count": 177,
      "outputs": [
        {
          "output_type": "execute_result",
          "data": {
            "text/plain": [
              "(239, 12)"
            ]
          },
          "metadata": {},
          "execution_count": 177
        }
      ]
    },
    {
      "cell_type": "code",
      "source": [
        "from tensorflow.keras.models import Sequential\n",
        "from tensorflow.keras.layers import Dense"
      ],
      "metadata": {
        "id": "PTC38xX7PH63"
      },
      "execution_count": 178,
      "outputs": []
    },
    {
      "cell_type": "code",
      "source": [
        "model = Sequential()\n",
        "model.add(Dense(128, input_dim=12, activation='relu'))\n",
        "model.add(Dense(16, activation='relu'))\n",
        "model.add(Dense(1, activation='sigmoid'))\n",
        "\n",
        "model.compile(loss='binary_crossentropy', optimizer='adam', metrics=['accuracy'])"
      ],
      "metadata": {
        "id": "kWc7HiMbPLjU"
      },
      "execution_count": 179,
      "outputs": []
    },
    {
      "cell_type": "code",
      "source": [
        "model.summary()"
      ],
      "metadata": {
        "colab": {
          "base_uri": "https://localhost:8080/"
        },
        "id": "ceKl1Ll8PO9d",
        "outputId": "b7493495-2229-4dd1-d342-c02da5bf7a79"
      },
      "execution_count": 180,
      "outputs": [
        {
          "output_type": "stream",
          "name": "stdout",
          "text": [
            "Model: \"sequential_9\"\n",
            "_________________________________________________________________\n",
            " Layer (type)                Output Shape              Param #   \n",
            "=================================================================\n",
            " dense_27 (Dense)            (None, 128)               1664      \n",
            "                                                                 \n",
            " dense_28 (Dense)            (None, 16)                2064      \n",
            "                                                                 \n",
            " dense_29 (Dense)            (None, 1)                 17        \n",
            "                                                                 \n",
            "=================================================================\n",
            "Total params: 3,745\n",
            "Trainable params: 3,745\n",
            "Non-trainable params: 0\n",
            "_________________________________________________________________\n"
          ]
        }
      ]
    },
    {
      "cell_type": "code",
      "source": [
        "X_train.shape"
      ],
      "metadata": {
        "colab": {
          "base_uri": "https://localhost:8080/"
        },
        "id": "gtC8572KGp4W",
        "outputId": "b0b35853-c087-43e3-8f3a-4ef18fec28f4"
      },
      "execution_count": 181,
      "outputs": [
        {
          "output_type": "execute_result",
          "data": {
            "text/plain": [
              "(239, 12)"
            ]
          },
          "metadata": {},
          "execution_count": 181
        }
      ]
    },
    {
      "cell_type": "code",
      "source": [
        "history = model.fit(X_train, y_train, epochs = 100,verbose=True,batch_size=64)"
      ],
      "metadata": {
        "colab": {
          "base_uri": "https://localhost:8080/"
        },
        "id": "MGtjezWvPRjr",
        "outputId": "1c348c52-5a78-4ad7-ecac-f20995a23f3a"
      },
      "execution_count": 182,
      "outputs": [
        {
          "output_type": "stream",
          "name": "stdout",
          "text": [
            "Epoch 1/100\n",
            "4/4 [==============================] - 1s 5ms/step - loss: 0.6924 - accuracy: 0.4895\n",
            "Epoch 2/100\n",
            "4/4 [==============================] - 0s 4ms/step - loss: 0.6554 - accuracy: 0.7406\n",
            "Epoch 3/100\n",
            "4/4 [==============================] - 0s 4ms/step - loss: 0.6308 - accuracy: 0.7029\n",
            "Epoch 4/100\n",
            "4/4 [==============================] - 0s 5ms/step - loss: 0.6112 - accuracy: 0.7029\n",
            "Epoch 5/100\n",
            "4/4 [==============================] - 0s 5ms/step - loss: 0.5965 - accuracy: 0.7029\n",
            "Epoch 6/100\n",
            "4/4 [==============================] - 0s 4ms/step - loss: 0.5862 - accuracy: 0.7029\n",
            "Epoch 7/100\n",
            "4/4 [==============================] - 0s 3ms/step - loss: 0.5774 - accuracy: 0.7029\n",
            "Epoch 8/100\n",
            "4/4 [==============================] - 0s 4ms/step - loss: 0.5663 - accuracy: 0.7029\n",
            "Epoch 9/100\n",
            "4/4 [==============================] - 0s 4ms/step - loss: 0.5539 - accuracy: 0.7029\n",
            "Epoch 10/100\n",
            "4/4 [==============================] - 0s 4ms/step - loss: 0.5397 - accuracy: 0.7029\n",
            "Epoch 11/100\n",
            "4/4 [==============================] - 0s 4ms/step - loss: 0.5253 - accuracy: 0.7029\n",
            "Epoch 12/100\n",
            "4/4 [==============================] - 0s 5ms/step - loss: 0.5111 - accuracy: 0.7029\n",
            "Epoch 13/100\n",
            "4/4 [==============================] - 0s 4ms/step - loss: 0.4987 - accuracy: 0.7280\n",
            "Epoch 14/100\n",
            "4/4 [==============================] - 0s 5ms/step - loss: 0.4849 - accuracy: 0.7448\n",
            "Epoch 15/100\n",
            "4/4 [==============================] - 0s 5ms/step - loss: 0.4710 - accuracy: 0.7531\n",
            "Epoch 16/100\n",
            "4/4 [==============================] - 0s 3ms/step - loss: 0.4565 - accuracy: 0.7699\n",
            "Epoch 17/100\n",
            "4/4 [==============================] - 0s 4ms/step - loss: 0.4436 - accuracy: 0.8075\n",
            "Epoch 18/100\n",
            "4/4 [==============================] - 0s 4ms/step - loss: 0.4292 - accuracy: 0.8159\n",
            "Epoch 19/100\n",
            "4/4 [==============================] - 0s 4ms/step - loss: 0.4166 - accuracy: 0.8368\n",
            "Epoch 20/100\n",
            "4/4 [==============================] - 0s 4ms/step - loss: 0.4040 - accuracy: 0.8452\n",
            "Epoch 21/100\n",
            "4/4 [==============================] - 0s 4ms/step - loss: 0.3938 - accuracy: 0.8410\n",
            "Epoch 22/100\n",
            "4/4 [==============================] - 0s 3ms/step - loss: 0.3831 - accuracy: 0.8452\n",
            "Epoch 23/100\n",
            "4/4 [==============================] - 0s 4ms/step - loss: 0.3739 - accuracy: 0.8452\n",
            "Epoch 24/100\n",
            "4/4 [==============================] - 0s 3ms/step - loss: 0.3661 - accuracy: 0.8452\n",
            "Epoch 25/100\n",
            "4/4 [==============================] - 0s 4ms/step - loss: 0.3593 - accuracy: 0.8494\n",
            "Epoch 26/100\n",
            "4/4 [==============================] - 0s 3ms/step - loss: 0.3536 - accuracy: 0.8494\n",
            "Epoch 27/100\n",
            "4/4 [==============================] - 0s 4ms/step - loss: 0.3473 - accuracy: 0.8494\n",
            "Epoch 28/100\n",
            "4/4 [==============================] - 0s 4ms/step - loss: 0.3431 - accuracy: 0.8452\n",
            "Epoch 29/100\n",
            "4/4 [==============================] - 0s 5ms/step - loss: 0.3375 - accuracy: 0.8494\n",
            "Epoch 30/100\n",
            "4/4 [==============================] - 0s 5ms/step - loss: 0.3352 - accuracy: 0.8536\n",
            "Epoch 31/100\n",
            "4/4 [==============================] - 0s 4ms/step - loss: 0.3300 - accuracy: 0.8536\n",
            "Epoch 32/100\n",
            "4/4 [==============================] - 0s 4ms/step - loss: 0.3277 - accuracy: 0.8536\n",
            "Epoch 33/100\n",
            "4/4 [==============================] - 0s 4ms/step - loss: 0.3243 - accuracy: 0.8494\n",
            "Epoch 34/100\n",
            "4/4 [==============================] - 0s 3ms/step - loss: 0.3204 - accuracy: 0.8619\n",
            "Epoch 35/100\n",
            "4/4 [==============================] - 0s 3ms/step - loss: 0.3189 - accuracy: 0.8619\n",
            "Epoch 36/100\n",
            "4/4 [==============================] - 0s 4ms/step - loss: 0.3148 - accuracy: 0.8577\n",
            "Epoch 37/100\n",
            "4/4 [==============================] - 0s 4ms/step - loss: 0.3144 - accuracy: 0.8661\n",
            "Epoch 38/100\n",
            "4/4 [==============================] - 0s 4ms/step - loss: 0.3100 - accuracy: 0.8661\n",
            "Epoch 39/100\n",
            "4/4 [==============================] - 0s 5ms/step - loss: 0.3114 - accuracy: 0.8619\n",
            "Epoch 40/100\n",
            "4/4 [==============================] - 0s 4ms/step - loss: 0.3098 - accuracy: 0.8787\n",
            "Epoch 41/100\n",
            "4/4 [==============================] - 0s 5ms/step - loss: 0.3054 - accuracy: 0.8703\n",
            "Epoch 42/100\n",
            "4/4 [==============================] - 0s 4ms/step - loss: 0.3026 - accuracy: 0.8787\n",
            "Epoch 43/100\n",
            "4/4 [==============================] - 0s 5ms/step - loss: 0.3011 - accuracy: 0.8619\n",
            "Epoch 44/100\n",
            "4/4 [==============================] - 0s 4ms/step - loss: 0.2982 - accuracy: 0.8703\n",
            "Epoch 45/100\n",
            "4/4 [==============================] - 0s 4ms/step - loss: 0.2973 - accuracy: 0.8787\n",
            "Epoch 46/100\n",
            "4/4 [==============================] - 0s 4ms/step - loss: 0.2956 - accuracy: 0.8787\n",
            "Epoch 47/100\n",
            "4/4 [==============================] - 0s 4ms/step - loss: 0.2938 - accuracy: 0.8828\n",
            "Epoch 48/100\n",
            "4/4 [==============================] - 0s 4ms/step - loss: 0.2913 - accuracy: 0.8828\n",
            "Epoch 49/100\n",
            "4/4 [==============================] - 0s 4ms/step - loss: 0.2888 - accuracy: 0.8787\n",
            "Epoch 50/100\n",
            "4/4 [==============================] - 0s 4ms/step - loss: 0.2876 - accuracy: 0.8787\n",
            "Epoch 51/100\n",
            "4/4 [==============================] - 0s 4ms/step - loss: 0.2869 - accuracy: 0.8745\n",
            "Epoch 52/100\n",
            "4/4 [==============================] - 0s 5ms/step - loss: 0.2857 - accuracy: 0.8870\n",
            "Epoch 53/100\n",
            "4/4 [==============================] - 0s 4ms/step - loss: 0.2843 - accuracy: 0.8828\n",
            "Epoch 54/100\n",
            "4/4 [==============================] - 0s 4ms/step - loss: 0.2832 - accuracy: 0.8828\n",
            "Epoch 55/100\n",
            "4/4 [==============================] - 0s 4ms/step - loss: 0.2837 - accuracy: 0.8787\n",
            "Epoch 56/100\n",
            "4/4 [==============================] - 0s 4ms/step - loss: 0.2812 - accuracy: 0.8787\n",
            "Epoch 57/100\n",
            "4/4 [==============================] - 0s 5ms/step - loss: 0.2776 - accuracy: 0.8870\n",
            "Epoch 58/100\n",
            "4/4 [==============================] - 0s 7ms/step - loss: 0.2771 - accuracy: 0.8828\n",
            "Epoch 59/100\n",
            "4/4 [==============================] - 0s 4ms/step - loss: 0.2750 - accuracy: 0.8787\n",
            "Epoch 60/100\n",
            "4/4 [==============================] - 0s 4ms/step - loss: 0.2747 - accuracy: 0.8828\n",
            "Epoch 61/100\n",
            "4/4 [==============================] - 0s 4ms/step - loss: 0.2724 - accuracy: 0.8828\n",
            "Epoch 62/100\n",
            "4/4 [==============================] - 0s 4ms/step - loss: 0.2713 - accuracy: 0.8828\n",
            "Epoch 63/100\n",
            "4/4 [==============================] - 0s 4ms/step - loss: 0.2699 - accuracy: 0.8870\n",
            "Epoch 64/100\n",
            "4/4 [==============================] - 0s 3ms/step - loss: 0.2684 - accuracy: 0.8870\n",
            "Epoch 65/100\n",
            "4/4 [==============================] - 0s 4ms/step - loss: 0.2667 - accuracy: 0.8912\n",
            "Epoch 66/100\n",
            "4/4 [==============================] - 0s 4ms/step - loss: 0.2657 - accuracy: 0.8828\n",
            "Epoch 67/100\n",
            "4/4 [==============================] - 0s 4ms/step - loss: 0.2649 - accuracy: 0.8870\n",
            "Epoch 68/100\n",
            "4/4 [==============================] - 0s 5ms/step - loss: 0.2629 - accuracy: 0.8912\n",
            "Epoch 69/100\n",
            "4/4 [==============================] - 0s 5ms/step - loss: 0.2620 - accuracy: 0.8870\n",
            "Epoch 70/100\n",
            "4/4 [==============================] - 0s 4ms/step - loss: 0.2610 - accuracy: 0.8828\n",
            "Epoch 71/100\n",
            "4/4 [==============================] - 0s 4ms/step - loss: 0.2594 - accuracy: 0.8912\n",
            "Epoch 72/100\n",
            "4/4 [==============================] - 0s 4ms/step - loss: 0.2582 - accuracy: 0.8870\n",
            "Epoch 73/100\n",
            "4/4 [==============================] - 0s 4ms/step - loss: 0.2564 - accuracy: 0.8870\n",
            "Epoch 74/100\n",
            "4/4 [==============================] - 0s 4ms/step - loss: 0.2554 - accuracy: 0.8912\n",
            "Epoch 75/100\n",
            "4/4 [==============================] - 0s 4ms/step - loss: 0.2556 - accuracy: 0.8870\n",
            "Epoch 76/100\n",
            "4/4 [==============================] - 0s 4ms/step - loss: 0.2526 - accuracy: 0.8912\n",
            "Epoch 77/100\n",
            "4/4 [==============================] - 0s 4ms/step - loss: 0.2531 - accuracy: 0.8912\n",
            "Epoch 78/100\n",
            "4/4 [==============================] - 0s 4ms/step - loss: 0.2501 - accuracy: 0.8912\n",
            "Epoch 79/100\n",
            "4/4 [==============================] - 0s 4ms/step - loss: 0.2494 - accuracy: 0.8912\n",
            "Epoch 80/100\n",
            "4/4 [==============================] - 0s 5ms/step - loss: 0.2486 - accuracy: 0.8912\n",
            "Epoch 81/100\n",
            "4/4 [==============================] - 0s 4ms/step - loss: 0.2473 - accuracy: 0.8912\n",
            "Epoch 82/100\n",
            "4/4 [==============================] - 0s 4ms/step - loss: 0.2464 - accuracy: 0.8870\n",
            "Epoch 83/100\n",
            "4/4 [==============================] - 0s 4ms/step - loss: 0.2440 - accuracy: 0.8870\n",
            "Epoch 84/100\n",
            "4/4 [==============================] - 0s 5ms/step - loss: 0.2423 - accuracy: 0.8912\n",
            "Epoch 85/100\n",
            "4/4 [==============================] - 0s 4ms/step - loss: 0.2425 - accuracy: 0.8954\n",
            "Epoch 86/100\n",
            "4/4 [==============================] - 0s 4ms/step - loss: 0.2394 - accuracy: 0.8912\n",
            "Epoch 87/100\n",
            "4/4 [==============================] - 0s 4ms/step - loss: 0.2389 - accuracy: 0.8912\n",
            "Epoch 88/100\n",
            "4/4 [==============================] - 0s 4ms/step - loss: 0.2379 - accuracy: 0.8870\n",
            "Epoch 89/100\n",
            "4/4 [==============================] - 0s 4ms/step - loss: 0.2366 - accuracy: 0.8912\n",
            "Epoch 90/100\n",
            "4/4 [==============================] - 0s 4ms/step - loss: 0.2346 - accuracy: 0.8912\n",
            "Epoch 91/100\n",
            "4/4 [==============================] - 0s 4ms/step - loss: 0.2346 - accuracy: 0.8912\n",
            "Epoch 92/100\n",
            "4/4 [==============================] - 0s 4ms/step - loss: 0.2325 - accuracy: 0.8954\n",
            "Epoch 93/100\n",
            "4/4 [==============================] - 0s 4ms/step - loss: 0.2319 - accuracy: 0.8954\n",
            "Epoch 94/100\n",
            "4/4 [==============================] - 0s 4ms/step - loss: 0.2319 - accuracy: 0.8912\n",
            "Epoch 95/100\n",
            "4/4 [==============================] - 0s 4ms/step - loss: 0.2289 - accuracy: 0.8912\n",
            "Epoch 96/100\n",
            "4/4 [==============================] - 0s 4ms/step - loss: 0.2275 - accuracy: 0.8996\n",
            "Epoch 97/100\n",
            "4/4 [==============================] - 0s 4ms/step - loss: 0.2261 - accuracy: 0.8954\n",
            "Epoch 98/100\n",
            "4/4 [==============================] - 0s 4ms/step - loss: 0.2246 - accuracy: 0.8954\n",
            "Epoch 99/100\n",
            "4/4 [==============================] - 0s 4ms/step - loss: 0.2233 - accuracy: 0.8996\n",
            "Epoch 100/100\n",
            "4/4 [==============================] - 0s 4ms/step - loss: 0.2237 - accuracy: 0.8870\n"
          ]
        }
      ]
    },
    {
      "cell_type": "code",
      "source": [
        "acd = history.history['accuracy']\n",
        "loss = history.history['loss']"
      ],
      "metadata": {
        "id": "3rFiCCs2PSlG"
      },
      "execution_count": 183,
      "outputs": []
    },
    {
      "cell_type": "code",
      "source": [
        "from matplotlib import pyplot as plt\n",
        "plt.plot(acd)\n",
        "plt.title('model accuracy')\n",
        "plt.ylabel('accuracy')\n",
        "plt.xlabel('epoch')\n",
        "plt.legend(['train'], loc = 'upper left')\n",
        "plt.show()\n",
        "plt.savefig('accuracy_curve.png')"
      ],
      "metadata": {
        "colab": {
          "base_uri": "https://localhost:8080/",
          "height": 312
        },
        "id": "ljHh3WKhhEfz",
        "outputId": "bf4f79ac-727d-4932-e06a-23e9b1998b8b"
      },
      "execution_count": 184,
      "outputs": [
        {
          "output_type": "display_data",
          "data": {
            "image/png": "[encoded data removed]",
            "text/plain": [
              "<Figure size 432x288 with 1 Axes>"
            ]
          },
          "metadata": {
            "needs_background": "light"
          }
        },
        {
          "output_type": "display_data",
          "data": {
            "text/plain": [
              "<Figure size 432x288 with 0 Axes>"
            ]
          },
          "metadata": {}
        }
      ]
    },
    {
      "cell_type": "code",
      "source": [
        "plt.plot(history.history['loss'])\n",
        "plt.title('model loss')\n",
        "plt.ylabel('loss')\n",
        "plt.xlabel('epoch')\n",
        "plt.legend(['train'], loc = 'upper left')\n",
        "plt.show()\n",
        "plt.savefig('loss_curve.png')"
      ],
      "metadata": {
        "colab": {
          "base_uri": "https://localhost:8080/",
          "height": 312
        },
        "id": "jHex08pEhFRs",
        "outputId": "31ebf625-20f6-4f9d-9e33-9efa7a9ea1ac"
      },
      "execution_count": 185,
      "outputs": [
        {
          "output_type": "display_data",
          "data": {
            "image/png": "[encoded data removed]",
            "text/plain": [
              "<Figure size 432x288 with 1 Axes>"
            ]
          },
          "metadata": {
            "needs_background": "light"
          }
        },
        {
          "output_type": "display_data",
          "data": {
            "text/plain": [
              "<Figure size 432x288 with 0 Axes>"
            ]
          },
          "metadata": {}
        }
      ]
    },
    {
      "cell_type": "code",
      "source": [
        "history_test = model.evaluate(X_test, y_test)"
      ],
      "metadata": {
        "id": "hm-lJ0-IQEcS",
        "colab": {
          "base_uri": "https://localhost:8080/"
        },
        "outputId": "4a1870a1-1d4f-4390-be09-8ad61367ba5d"
      },
      "execution_count": 186,
      "outputs": [
        {
          "output_type": "stream",
          "name": "stdout",
          "text": [
            "WARNING:tensorflow:5 out of the last 13 calls to <function Model.make_test_function.<locals>.test_function at 0x7fa593745050> triggered tf.function retracing. Tracing is expensive and the excessive number of tracings could be due to (1) creating @tf.function repeatedly in a loop, (2) passing tensors with different shapes, (3) passing Python objects instead of tensors. For (1), please define your @tf.function outside of the loop. For (2), @tf.function has experimental_relax_shapes=True option that relaxes argument shapes that can avoid unnecessary retracing. For (3), please refer to https://www.tensorflow.org/guide/function#controlling_retracing and https://www.tensorflow.org/api_docs/python/tf/function for  more details.\n",
            "2/2 [==============================] - 0s 5ms/step - loss: 0.6711 - accuracy: 0.7167\n"
          ]
        }
      ]
    },
    {
      "cell_type": "code",
      "source": [
        "history_test"
      ],
      "metadata": {
        "colab": {
          "base_uri": "https://localhost:8080/"
        },
        "id": "VEl71dWzqxoo",
        "outputId": "9ce97745-effa-4431-b7c8-489616d1cae2"
      },
      "execution_count": 187,
      "outputs": [
        {
          "output_type": "execute_result",
          "data": {
            "text/plain": [
              "[0.6710608005523682, 0.7166666388511658]"
            ]
          },
          "metadata": {},
          "execution_count": 187
        }
      ]
    }
  ]
}